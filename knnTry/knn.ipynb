{
 "cells": [
  {
   "cell_type": "code",
   "execution_count": 13,
   "id": "d848d607",
   "metadata": {},
   "outputs": [
    {
     "data": {
      "text/plain": [
       "<matplotlib.legend.Legend at 0x11f0a8250>"
      ]
     },
     "execution_count": 13,
     "metadata": {},
     "output_type": "execute_result"
    },
    {
     "data": {
      "image/png": "[encoded data removed]",
      "text/plain": [
       "<Figure size 432x288 with 1 Axes>"
      ]
     },
     "metadata": {
      "needs_background": "light"
     },
     "output_type": "display_data"
    }
   ],
   "source": [
    "import matplotlib.pyplot as plt\n",
    "import numpy as np\n",
    "import operator \n",
    "\n",
    "#known classified data (nodes)\n",
    "x1 = np.array([3, 2, 1])\n",
    "y1 = np.array([104, 100, 81])\n",
    "x2 = np.array([101, 99, 98])\n",
    "y2 = np.array([10,5,2])\n",
    "\n",
    "scater1 = plt.scatter(x1, y1, c ='r')\n",
    "scater2 = plt.scatter(x2, y2, c ='b')\n",
    "\n",
    "# unknown data\n",
    "x = np.array([18])\n",
    "y = np.array([90])\n",
    "\n",
    "scatter_test = plt.scatter(x,y, c ='k')\n",
    "\n",
    "plt.legend(handles = [scater1,scater2, scatter_test], labels = ['lableA', 'labelB', 'test'], loc = 'best')\n"
   ]
  },
  {
   "cell_type": "code",
   "execution_count": null,
   "id": "bafec884",
   "metadata": {},
   "outputs": [],
   "source": []
  },
  {
   "cell_type": "code",
   "execution_count": null,
   "id": "ac4c0e97",
   "metadata": {},
   "outputs": [],
   "source": []
  }
 ],
 "metadata": {
  "kernelspec": {
   "display_name": "Python 3",
   "language": "python",
   "name": "python3"
  },
  "language_info": {
   "codemirror_mode": {
    "name": "ipython",
    "version": 3
   },
   "file_extension": ".py",
   "mimetype": "text/x-python",
   "name": "python",
   "nbconvert_exporter": "python",
   "pygments_lexer": "ipython3",
   "version": "3.8.8"
  }
 },
 "nbformat": 4,
 "nbformat_minor": 5
}
