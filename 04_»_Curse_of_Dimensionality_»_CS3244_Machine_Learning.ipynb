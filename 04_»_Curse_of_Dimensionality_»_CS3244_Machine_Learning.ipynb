{
  "nbformat": 4,
  "nbformat_minor": 0,
  "metadata": {
    "colab": {
      "name": "04 » Curse of Dimensionality » CS3244 Machine Learning",
      "provenance": [],
      "collapsed_sections": []
    },
    "kernelspec": {
      "name": "python3",
      "display_name": "Python 3"
    }
  },
  "cells": [
    {
      "cell_type": "markdown",
      "metadata": {
        "id": "JQVTjg9vMS-M"
      },
      "source": [
        "Available at http://www.comp.nus.edu.sg/~cs3244/AY2122S1/04.colab.html"
      ]
    },
    {
      "cell_type": "markdown",
      "metadata": {
        "id": "uvf81x6Vrysn"
      },
      "source": [
        "![Machine Learning](https://www.comp.nus.edu.sg/~cs3244/AY2122S1/2110-header.png)\n",
        "---\n",
        "See **Credits** below for acknowledgements and rights.  This notebook is for self-study only, no credit given.\n"
      ]
    },
    {
      "cell_type": "markdown",
      "metadata": {
        "id": "C7uUlXwCuvLY"
      },
      "source": [
        "**Learning Outcomes for this Notebook**\n",
        "\n",
        "After finishing this notebook exercise alongside the lecture notes, you should be able to:\n",
        "* Understand the curse of dimensionality;\n",
        "* Relate the curse to the problem of applying distance based metric classifiers (like $k$ NN) in high dimensions.\n"
      ]
    },
    {
      "cell_type": "markdown",
      "metadata": {
        "id": "1JOR5eBj20Ts"
      },
      "source": [
        "# Curse of Dimensionality — Unit Hypercube"
      ]
    },
    {
      "cell_type": "markdown",
      "metadata": {
        "id": "XkTG0WS43KN5"
      },
      "source": [
        "We include code for you to run and modify to check the _Curse of Dimensionality_.  Recall that the Curse of Dimensionality suggests that the larger the dimensional space you have in your dataset, the more difficult it is to meaningfully discern relative distances between points."
      ]
    },
    {
      "cell_type": "code",
      "metadata": {
        "id": "GbGC5NcP3Jd_",
        "colab": {
          "base_uri": "https://localhost:8080/",
          "height": 1000
        },
        "outputId": "56fb3452-9f46-4817-e6d5-6ccf6d89457a"
      },
      "source": [
        "import numpy as np\n",
        "from sys import argv as a\n",
        "import numpy as np\n",
        "import matplotlib.pyplot as plt\n",
        "\n",
        "# Try some on your own\n",
        "for dim in [1,2,3,4,8,10,100,200]:\n",
        "    ## choices of |X|: data (comment out one)\n",
        "    samples = 200\n",
        "    #samples = pow(2,dim)\n",
        "    X = np.random.uniform(size=(samples,dim))\n",
        "\n",
        "    ## choices of x: test point (comment out one)\n",
        "    # x = np.random.uniform(size=(dim)) # random place\n",
        "    x = np.zeros(dim) # at origin\n",
        "    print(\"%d dimensions:\" % dim)\n",
        "    print(\"#   Generated %d points\" % samples)\n",
        "    print(\"#   Test point: \", x)\n",
        "    dist_array = []\n",
        "    for j in range(len(X)):\n",
        "        dist = 0.0\n",
        "        for i in range(dim):\n",
        "    #        print (\"%f => %f \"% (x[i]-X[j][i],pow(x[i]-X[j][i],2)))\n",
        "            dist += pow(x[i]-X[j][i],2)\n",
        "    #    print (\"L1 sum distance %f => L2 distance %f\" % (dist,pow(dist,0.5)))\n",
        "        dist = pow(dist,0.5)\n",
        "        dist_array.append(dist)\n",
        "    #    print (\"%d th point %s has distance %f\" % (j,X[j],dist))\n",
        "    distances = np.array(dist_array)\n",
        "    print (\"#   Average distance (STD) of test point to %d samples: %f (%f)\" % (samples,distances.mean(),distances.std()))\n",
        "    plt.hist(distances, bins=int(samples/10), label='Dim %d' % dim)\n",
        "\n",
        "    ## plot outputs\n",
        "    ## show [1] individual histograms or [2] single composite histogram?\n",
        "#    plt.show() # [1] individual histograms\n",
        "    plt.gca().set(title='Frequency Histogram', ylabel='Frequency'); plt.legend() # [2] composite hisogram"
      ],
      "execution_count": null,
      "outputs": [
        {
          "output_type": "stream",
          "text": [
            "1 dimensions:\n",
            "#   Generated 200 points\n",
            "#   Test point:  [0.]\n",
            "#   Average distance (STD) of test point to 200 samples: 0.488055 (0.296187)\n",
            "2 dimensions:\n",
            "#   Generated 200 points\n",
            "#   Test point:  [0. 0.]\n",
            "#   Average distance (STD) of test point to 200 samples: 0.775655 (0.304052)\n",
            "3 dimensions:\n",
            "#   Generated 200 points\n",
            "#   Test point:  [0. 0. 0.]\n",
            "#   Average distance (STD) of test point to 200 samples: 0.990080 (0.250675)\n",
            "4 dimensions:\n",
            "#   Generated 200 points\n",
            "#   Test point:  [0. 0. 0. 0.]\n",
            "#   Average distance (STD) of test point to 200 samples: 1.119898 (0.259227)\n",
            "8 dimensions:\n",
            "#   Generated 200 points\n",
            "#   Test point:  [0. 0. 0. 0. 0. 0. 0. 0.]\n",
            "#   Average distance (STD) of test point to 200 samples: 1.607993 (0.297556)\n",
            "10 dimensions:\n",
            "#   Generated 200 points\n",
            "#   Test point:  [0. 0. 0. 0. 0. 0. 0. 0. 0. 0.]\n",
            "#   Average distance (STD) of test point to 200 samples: 1.851298 (0.220929)\n",
            "100 dimensions:\n",
            "#   Generated 200 points\n",
            "#   Test point:  [0. 0. 0. 0. 0. 0. 0. 0. 0. 0. 0. 0. 0. 0. 0. 0. 0. 0. 0. 0. 0. 0. 0. 0.\n",
            " 0. 0. 0. 0. 0. 0. 0. 0. 0. 0. 0. 0. 0. 0. 0. 0. 0. 0. 0. 0. 0. 0. 0. 0.\n",
            " 0. 0. 0. 0. 0. 0. 0. 0. 0. 0. 0. 0. 0. 0. 0. 0. 0. 0. 0. 0. 0. 0. 0. 0.\n",
            " 0. 0. 0. 0. 0. 0. 0. 0. 0. 0. 0. 0. 0. 0. 0. 0. 0. 0. 0. 0. 0. 0. 0. 0.\n",
            " 0. 0. 0. 0.]\n",
            "#   Average distance (STD) of test point to 200 samples: 5.738288 (0.261738)\n",
            "200 dimensions:\n",
            "#   Generated 200 points\n",
            "#   Test point:  [0. 0. 0. 0. 0. 0. 0. 0. 0. 0. 0. 0. 0. 0. 0. 0. 0. 0. 0. 0. 0. 0. 0. 0.\n",
            " 0. 0. 0. 0. 0. 0. 0. 0. 0. 0. 0. 0. 0. 0. 0. 0. 0. 0. 0. 0. 0. 0. 0. 0.\n",
            " 0. 0. 0. 0. 0. 0. 0. 0. 0. 0. 0. 0. 0. 0. 0. 0. 0. 0. 0. 0. 0. 0. 0. 0.\n",
            " 0. 0. 0. 0. 0. 0. 0. 0. 0. 0. 0. 0. 0. 0. 0. 0. 0. 0. 0. 0. 0. 0. 0. 0.\n",
            " 0. 0. 0. 0. 0. 0. 0. 0. 0. 0. 0. 0. 0. 0. 0. 0. 0. 0. 0. 0. 0. 0. 0. 0.\n",
            " 0. 0. 0. 0. 0. 0. 0. 0. 0. 0. 0. 0. 0. 0. 0. 0. 0. 0. 0. 0. 0. 0. 0. 0.\n",
            " 0. 0. 0. 0. 0. 0. 0. 0. 0. 0. 0. 0. 0. 0. 0. 0. 0. 0. 0. 0. 0. 0. 0. 0.\n",
            " 0. 0. 0. 0. 0. 0. 0. 0. 0. 0. 0. 0. 0. 0. 0. 0. 0. 0. 0. 0. 0. 0. 0. 0.\n",
            " 0. 0. 0. 0. 0. 0. 0. 0.]\n",
            "#   Average distance (STD) of test point to 200 samples: 8.141833 (0.276984)\n"
          ],
          "name": "stdout"
        },
        {
          "output_type": "display_data",
          "data": {
            "image/png": "[encoded data removed]",
            "text/plain": [
              "<Figure size 432x288 with 1 Axes>"
            ]
          },
          "metadata": {
            "needs_background": "light"
          }
        }
      ]
    },
    {
      "cell_type": "markdown",
      "metadata": {
        "id": "W71vdgRdmWgt"
      },
      "source": [
        "We can thus observe the **Curse of Dimensionality**:\n",
        "\n",
        "As the dimensionality gets larger, distances generally grow larger, but their spread, as measured by their standard deviation, grows much more slowly. Relative distances between arbitary points become more difficult to distinguish. "
      ]
    },
    {
      "cell_type": "markdown",
      "metadata": {
        "id": "EtMmCHCTcVeA"
      },
      "source": [
        "---\n",
        "# Credits"
      ]
    },
    {
      "cell_type": "markdown",
      "metadata": {
        "id": "-kGaO2wXmyVP"
      },
      "source": [
        "\n",
        "Authored by Lee Yi Quan, Mohammad Neamul Kabir and [Min-Yen Kan](http://www.comp.nus.edu.sg/~kanmy) (2019), affiliated with [WING](http://wing.comp.nus.edu.sg), [NUS School of Computing](http://www.comp.nus.edu.sg) and [ALSET](http://www.nus.edu.sg/alset).\n",
        "Licensed as: [Creative Commons Attribution 4.0 International](https://creativecommons.org/licenses/by/4.0/ ) (CC BY 4.0).  "
      ]
    }
  ]
}